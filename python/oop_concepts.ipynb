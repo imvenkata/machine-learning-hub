{
  "nbformat": 4,
  "nbformat_minor": 0,
  "metadata": {
    "colab": {
      "provenance": [],
      "authorship_tag": "ABX9TyPmnGrmOx890/5t4EziBGiF",
      "include_colab_link": true
    },
    "kernelspec": {
      "name": "python3",
      "display_name": "Python 3"
    },
    "language_info": {
      "name": "python"
    }
  },
  "cells": [
    {
      "cell_type": "markdown",
      "metadata": {
        "id": "view-in-github",
        "colab_type": "text"
      },
      "source": [
        "<a href=\"https://colab.research.google.com/github/imvenkata/machine-learning-hub/blob/main/python/oop_concepts.ipynb\" target=\"_parent\"><img src=\"https://colab.research.google.com/assets/colab-badge.svg\" alt=\"Open In Colab\"/></a>"
      ]
    },
    {
      "cell_type": "markdown",
      "source": [
        "## Object-orineted programming basics\n",
        "\n",
        "Object-oriented programming (OOP) is a paradigm that uses objects and classes to organize code and data into resusable units. Here are some basic OOP concepts explained with code examples in Python:\n",
        "\n",
        "1. Class and Object\n",
        "2. Encapsulation\n",
        "3. Inheritance\n",
        "4. Polymorphism\n",
        "5. Abstraction"
      ],
      "metadata": {
        "id": "iBlSARTfdMU_"
      }
    },
    {
      "cell_type": "markdown",
      "source": [
        "## 1. Class and Objects\n",
        "\n",
        "A class is a blueprint for creating objects (instances). An object is an instance of class which consists attributes & methods.\n",
        "  * Attributes are the properties/characterstics of an object\n",
        "  *"
      ],
      "metadata": {
        "id": "_tB2as-8gGjs"
      }
    },
    {
      "cell_type": "code",
      "source": [
        "class Car:\n",
        "  def __init__(self, make, model, year):\n",
        "    self.make = make\n",
        "    self.model = model\n",
        "    self.year = year\n",
        "\n",
        "  def start(self):  # bark is a method in Dog class\n",
        "    return f\"Starting the {self.make} {self.model}\"\n",
        "\n",
        "# creating an object (instance) of the Car class\n",
        "my_car = Car(\"Ford\", \"focus\", 2014)\n",
        "\n",
        "# Attributes of my_car object\n",
        "print(my_car.make)\n",
        "print(my_car.model)\n",
        "print(my_car.year)\n",
        "\n",
        "# method\n",
        "print(my_car.start())"
      ],
      "metadata": {
        "colab": {
          "base_uri": "https://localhost:8080/"
        },
        "id": "hNbNQYM6gFbS",
        "outputId": "91aa741c-a874-4728-c9ab-71dfbfd670c6"
      },
      "execution_count": 5,
      "outputs": [
        {
          "output_type": "stream",
          "name": "stdout",
          "text": [
            "Ford\n",
            "focus\n",
            "2014\n",
            "Starting the Ford focus\n"
          ]
        }
      ]
    },
    {
      "cell_type": "markdown",
      "source": [
        "## 2. Inheritance\n",
        "\n",
        "Inheritance is a way to create a new class using details of an existing class without modifiying it, inheriting its attributes and method. The new class is called a subclass or derived class and the existing class is called super class or base class."
      ],
      "metadata": {
        "id": "G8gYIEk8KwsH"
      }
    },
    {
      "cell_type": "code",
      "source": [
        "class ElectricCar(Car):\n",
        "  def __init__(self, make, model, year, battery_capacity):\n",
        "    super().__init__(make, model, year)\n",
        "    self.battery_capacity = battery_capacity\n",
        "\n",
        "  def charge(self):\n",
        "    return f\"Charging the {self.make} {self.model}\"\n",
        "\n",
        "\n",
        "my_electric_car = ElectricCar(\"Tesla\", \"Model X\", 2022, 100)\n",
        "print(my_electric_car.start())\n",
        "print(my_electric_car.charge())"
      ],
      "metadata": {
        "colab": {
          "base_uri": "https://localhost:8080/"
        },
        "id": "7kn5507QK0Sh",
        "outputId": "b90e95e9-3d01-4ee6-91b8-4754b943c6af"
      },
      "execution_count": 10,
      "outputs": [
        {
          "output_type": "stream",
          "name": "stdout",
          "text": [
            "Starting the Tesla Model X\n",
            "Charging the Tesla Model X\n"
          ]
        }
      ]
    },
    {
      "cell_type": "markdown",
      "source": [
        "## 3. Encapsulation\n",
        "\n",
        "Encapsualtion is the concept of wrapping data (attributes) and methods (fuctions) together as a single unit, and restricting access to some of the objects's components. In pythos, this can be achieved using the private attributes detonted by dunder prefix(__)."
      ],
      "metadata": {
        "id": "RPzDxD34h-iZ"
      }
    },
    {
      "cell_type": "code",
      "source": [
        "class BankAccount:\n",
        "  def __init__(self, balance):\n",
        "    self.__balance = balance\n",
        "\n",
        "  def deposit(self, amount):\n",
        "    self.__balance += amount\n",
        "\n",
        "  def withdraw(self, amount):\n",
        "    if self.__balance >= amount:\n",
        "      self.__balance -= amount\n",
        "    else:\n",
        "      print(\"Insufficient funds\")\n",
        "\n",
        "  def get_balance(self):\n",
        "    return self.__balance\n",
        "\n",
        "# Creating an object of the BankAccount class\n",
        "my_account = BankAccount(100)\n",
        "\n",
        "# access the private attributes through deposit, withdraw\n",
        "print(my_account.deposit(300))\n",
        "print(my_account.withdraw(100))\n",
        "print(my_account.get_balance())\n",
        ""
      ],
      "metadata": {
        "colab": {
          "base_uri": "https://localhost:8080/"
        },
        "id": "DQnz-jPokEJW",
        "outputId": "2dcc2c6b-f1fb-4cb9-835c-287496dca810"
      },
      "execution_count": 8,
      "outputs": [
        {
          "output_type": "stream",
          "name": "stdout",
          "text": [
            "None\n",
            "None\n",
            "300\n"
          ]
        }
      ]
    },
    {
      "cell_type": "markdown",
      "source": [
        "In this example __blance attribute is considered `private` and access to it is controlled through the the `deposit`, `withdraw` and `get_balance`\n",
        "\n"
      ],
      "metadata": {
        "id": "3VllAwo_7Jos"
      }
    },
    {
      "cell_type": "markdown",
      "source": [
        "## 4. Polymorphism\n",
        "\n",
        "Polymorphism allow us to use a single interface to represent differnret types. It means \"many form\" and is typically achieved by method overriding."
      ],
      "metadata": {
        "id": "-heCTBl6GgCf"
      }
    },
    {
      "cell_type": "code",
      "source": [
        "class Animal:\n",
        "  def sound(self):\n",
        "    raise NotImplementedError(\"subclass must implement abstract method\")\n",
        "\n",
        "class Dog(Animal):\n",
        "  def sound(self):\n",
        "    return \"Woof\"\n",
        "\n",
        "class Cat(Animal):\n",
        "  def sound(self):\n",
        "    return \"Meow!\"\n",
        "\n",
        "# ploymorphism example\n",
        "def make_sound(animal):\n",
        "  print(animal.sound())\n",
        "\n",
        "# Creating objects\n",
        "my_dog = Dog()\n",
        "my_cat = Cat()\n",
        "\n",
        "make_sound(my_dog)\n",
        "make_sound(my_cat)\n"
      ],
      "metadata": {
        "colab": {
          "base_uri": "https://localhost:8080/"
        },
        "id": "mlJ0WMiHHoMB",
        "outputId": "62a17d2b-0cf2-458d-e9c6-ed1888aa6819"
      },
      "execution_count": 13,
      "outputs": [
        {
          "output_type": "stream",
          "name": "stdout",
          "text": [
            "Woof\n",
            "Meow!\n"
          ]
        }
      ]
    },
    {
      "cell_type": "markdown",
      "source": [
        "## 5. Abstraction\n",
        "Abstraction is the concept of hiding the complex implementation details and showing only the mecessary features of an object. Abstract methods are declared without an implementation, and concrete subclasses must provide the implementation for these methods. This enforces a contract that the subclasses must follow.\n",
        "\n",
        "Note: Abstract class cannot be instantiated, it will raise an error"
      ],
      "metadata": {
        "id": "UG_xsQKdTpPF"
      }
    },
    {
      "cell_type": "code",
      "source": [
        "from abc import ABC, abstractmethod\n",
        "\n",
        "class Shape(ABC):\n",
        "  @abstractmethod\n",
        "  def area(self):\n",
        "    pass\n",
        "\n",
        "  @abstractmethod\n",
        "  def perimeter(self):\n",
        "    pass\n",
        "\n",
        "\n",
        "class Rectangle(Shape):\n",
        "    def __init__(self, length, width):\n",
        "        self.length = length\n",
        "        self.width = width\n",
        "\n",
        "    def area(self):\n",
        "        return self.length * self.width\n",
        "\n",
        "    def perimeter(self):\n",
        "        return 2 * (self.length + self.width)\n",
        "\n",
        "rect = Rectangle(5, 3)\n",
        "print(rect.area())\n",
        "print(rect.perimeter())\n",
        "\n"
      ],
      "metadata": {
        "colab": {
          "base_uri": "https://localhost:8080/"
        },
        "id": "gupxA8dNT8rs",
        "outputId": "1f9f86d6-f455-4f3d-ebb6-0fef4d286cba"
      },
      "execution_count": 24,
      "outputs": [
        {
          "output_type": "stream",
          "name": "stdout",
          "text": [
            "15\n",
            "16\n"
          ]
        }
      ]
    }
  ]
}